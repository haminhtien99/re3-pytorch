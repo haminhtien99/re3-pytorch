{
  "cells": [
    {
      "cell_type": "markdown",
      "metadata": {
        "id": "view-in-github",
        "colab_type": "text"
      },
      "source": [
        "<a href=\"https://colab.research.google.com/github/haminhtien99/re3-pytorch/blob/master/home.ipynb\" target=\"_parent\"><img src=\"https://colab.research.google.com/assets/colab-badge.svg\" alt=\"Open In Colab\"/></a>"
      ]
    },
    {
      "cell_type": "code",
      "execution_count": null,
      "metadata": {
        "colab": {
          "base_uri": "https://localhost:8080/"
        },
        "id": "RRYucsTa8vcj",
        "outputId": "0596816d-5891-4bb4-d5fe-3c09656435a5"
      },
      "outputs": [
        {
          "output_type": "stream",
          "name": "stdout",
          "text": [
            "Mounted at /content/drive\n"
          ]
        }
      ],
      "source": [
        "from google.colab import drive\n",
        "drive.mount('/content/drive')"
      ]
    },
    {
      "cell_type": "code",
      "execution_count": null,
      "metadata": {
        "colab": {
          "base_uri": "https://localhost:8080/"
        },
        "id": "hC3cnQtm9Isl",
        "outputId": "ac02a662-0fc4-4294-f53d-23ad86fa8e3d"
      },
      "outputs": [
        {
          "output_type": "stream",
          "name": "stdout",
          "text": [
            "/content/drive/MyDrive/Re3-Object-Tracking/re3-pytorch\n"
          ]
        }
      ],
      "source": [
        "%cd /content/drive/MyDrive/Re3-Object-Tracking/re3-pytorch\n",
        "# !git clone https://github.com/danielgordon10/re3-pytorch"
      ]
    },
    {
      "cell_type": "markdown",
      "metadata": {
        "id": "8IyyjraDUe34"
      },
      "source": [
        "###  Chuẩn bị dataset dùng để huấn luyện mạng\n"
      ]
    },
    {
      "cell_type": "markdown",
      "metadata": {
        "id": "oBr0Un7d2OkR"
      },
      "source": [
        "Gồm 2 thư mục train/val. Bên trong gồm images vs labels\n",
        "* train\n",
        "  * images --- .jpg\n",
        "  * labels\n",
        "  1. .txt : tên các file trong images,\n",
        "  2. .npy : Chứa thông tin về boungding box và các thuộc tính class, video, imgNum      \n",
        "* val\n",
        "  * images --- .jpg\n",
        "  * labels --- .txt, .npy"
      ]
    },
    {
      "cell_type": "markdown",
      "source": [
        "sample_dataset train/test = 2/1"
      ],
      "metadata": {
        "id": "aql0FlQvlUeF"
      }
    },
    {
      "cell_type": "code",
      "execution_count": null,
      "metadata": {
        "id": "7d8iTIreDcLz"
      },
      "outputs": [],
      "source": [
        "import cv2\n",
        "import numpy as np\n",
        "import glob\n",
        "import xml.etree.ElementTree as ET\n",
        "import time\n",
        "import random\n",
        "import os\n",
        "import sys\n",
        "import shutil\n",
        "from random import randint"
      ]
    },
    {
      "cell_type": "code",
      "source": [
        "src_folder = \"/content/drive/MyDrive/Re3-Object-Tracking/re3-pytorch/demo/data/\"\n",
        "dest_folder = \"/content/drive/MyDrive/Re3-Object-Tracking/re3-pytorch/data/sample_dataset/train/images/\"\n",
        "files = [f for f in os.listdir(src_folder) if f.endswith(\".jpg\") ]\n",
        "files.sort()\n",
        "N = len(files)*2 //3\n",
        "train_files = files[:N]\n",
        "for img in train_files:\n",
        "    source_path = src_folder +img\n",
        "    if not os.path.exists(dest_folder):\n",
        "        os.makedirs(dest_folder)\n",
        "    shutil.copy(source_path, dest_folder)\n"
      ],
      "metadata": {
        "id": "WU-Zdx9bf5I2"
      },
      "execution_count": null,
      "outputs": []
    },
    {
      "cell_type": "code",
      "source": [
        "bboxes = []\n",
        "imgNum = 0\n",
        "with open(src_folder + \"labels.txt\") as f:\n",
        "    for line in f.readlines():\n",
        "\n",
        "        line = line.split()\n",
        "        imgNum +=1\n",
        "        bbox = [int(float(line[1])), int(float(line[2])), int(float(line[3])), int(float(line[4])),\n",
        "                0, 0, imgNum, 0, 0]\n",
        "        bboxes.append(bbox)\n",
        "        if imgNum == N: break\n"
      ],
      "metadata": {
        "id": "QJGv17xghPLH"
      },
      "execution_count": null,
      "outputs": []
    },
    {
      "cell_type": "code",
      "source": [
        "len(bboxes)"
      ],
      "metadata": {
        "colab": {
          "base_uri": "https://localhost:8080/"
        },
        "id": "stMmW6Gjod9o",
        "outputId": "10ccf387-e302-4ab0-da4f-2bd994bc82a0"
      },
      "execution_count": null,
      "outputs": [
        {
          "output_type": "execute_result",
          "data": {
            "text/plain": [
              "287"
            ]
          },
          "metadata": {},
          "execution_count": 93
        }
      ]
    },
    {
      "cell_type": "code",
      "source": [
        "len(train_files)"
      ],
      "metadata": {
        "colab": {
          "base_uri": "https://localhost:8080/"
        },
        "id": "I-9hZqjp9EAx",
        "outputId": "acfc1a41-22cc-4b98-bd75-6020dca46a7b"
      },
      "execution_count": null,
      "outputs": [
        {
          "output_type": "execute_result",
          "data": {
            "text/plain": [
              "287"
            ]
          },
          "metadata": {},
          "execution_count": 94
        }
      ]
    },
    {
      "cell_type": "code",
      "source": [
        "def func(bboxes):\n",
        "    path = \"/content/drive/MyDrive/Re3-Object-Tracking/re3-pytorch/data/sample_dataset/train/images/00000455.jpg\"\n",
        "    img = cv2.imread(path)\n",
        "    height = img.shape[0]\n",
        "    width = img.shape[1]\n",
        "    x = 154\n",
        "    y = 111\n",
        "    w = 105\n",
        "    h = 96\n",
        "    roi = img[y: y+h,x:x+w]\n",
        "    blank= np.zeros_like(img)\n",
        "    folder = \"/content/drive/MyDrive/Re3-Object-Tracking/re3-pytorch/data/sample_dataset/train/images/\"\n",
        "    # bboxes = []\n",
        "    count = 0\n",
        "    x += 2\n",
        "    y += 1\n",
        "    while 142<x+w and x+w < 142 + 371 and y+h> 100 and y + h < 100+ 314:\n",
        "        blank[:, :]  = 255\n",
        "        count +=1\n",
        "        # print(count)\n",
        "\n",
        "        for i in range(h):\n",
        "            for j in range(w):\n",
        "                blank[y +i, x + j] = roi[i,j]\n",
        "        imgNum = count + 287\n",
        "        frame = count + 455\n",
        "        bbox = [x, y, x+w, y+h, 0, 0, imgNum, 0, 0]\n",
        "        nameFrame = f'{frame:08}'\n",
        "        cv2.imwrite(folder + nameFrame + \".jpg\", blank)\n",
        "        bboxes.append(bbox)\n",
        "        x += 2\n",
        "        y += 1\n",
        "    # bboxes = np.array(bboxes)\n",
        "    x -= 3\n",
        "    y += 1\n",
        "    print(count)\n",
        "\n",
        "    while 142<x+w and x+w < 142 + 371 and y+h> 100 and y + h < 100+ 314:\n",
        "        blank[:, :]  = 255\n",
        "        count += 1\n",
        "        for i in range(h):\n",
        "            for j in range(w):\n",
        "                blank[y +i, x + j] = roi[i,j]\n",
        "        imgNum = count + 287\n",
        "        frame = count + 455\n",
        "        bbox = [x, y, x+w, y+h, 0, 0, imgNum, 0, 0]\n",
        "        nameFrame = f'{frame:08}'\n",
        "        cv2.imwrite(folder + nameFrame + \".jpg\", blank)\n",
        "        bboxes.append(bbox)\n",
        "        x -=1\n",
        "        y+=2\n",
        "    y-=3\n",
        "    x-=1\n",
        "    print(count)\n",
        "    while 142<x+w and x+w < 142 + 371 and y+h> 100 and y + h < 100+ 314:\n",
        "        blank[:, :]  = 255\n",
        "        count += 1\n",
        "        for i in range(h):\n",
        "            for j in range(w):\n",
        "                blank[y +i, x + j] = roi[i,j]\n",
        "        imgNum = count + 287\n",
        "        frame = count + 455\n",
        "        bbox = [x, y, x+w, y+h, 0, 0, imgNum, 0, 0]\n",
        "        nameFrame = f'{frame:08}'\n",
        "        cv2.imwrite(folder + nameFrame + \".jpg\", blank)\n",
        "        bboxes.append(bbox)\n",
        "        x -=2\n",
        "        y -=1\n",
        "    print(count)\n",
        "    y+=1\n",
        "    x+=2\n",
        "    while 142<x+w and x+w < 142 + 371 and y+h> 100 and y + h < 100+ 314:\n",
        "        blank[:, :]  = 255\n",
        "        count += 1\n",
        "        for i in range(h):\n",
        "            for j in range(w):\n",
        "                blank[y +i, x + j] = roi[i,j]\n",
        "        imgNum = count + 287\n",
        "        frame = count + 455\n",
        "        bbox = [x, y, x+w, y+h, 0, 0, imgNum, 0, 0]\n",
        "        nameFrame = f'{frame:08}'\n",
        "        cv2.imwrite(folder + nameFrame + \".jpg\", blank)\n",
        "        bboxes.append(bbox)\n",
        "        x +=2\n",
        "        y -=1\n",
        "    x -=10\n",
        "    y +=10\n",
        "    print(count)\n",
        "    while 142<x+w and x+w < 142 + 371 and y+h> 100 and y + h < 100+ 314:\n",
        "        blank[:, :]  = 255\n",
        "        count += 1\n",
        "        for i in range(h):\n",
        "            for j in range(w):\n",
        "                blank[y +i, x + j] = roi[i,j]\n",
        "        imgNum = count + 287\n",
        "        frame = count + 455\n",
        "        bbox = [x, y, x+w, y+h, 0, 0, imgNum, 0, 0]\n",
        "        nameFrame = f'{frame:08}'\n",
        "        cv2.imwrite(folder + nameFrame + \".jpg\", blank)\n",
        "        bboxes.append(bbox)\n",
        "        x -=1\n",
        "        y +=2\n",
        "    y -= 10\n",
        "    x-=10\n",
        "    while count < 2000:\n",
        "        x = randint(x -5, x+5)\n",
        "        y = randint(y-5, y+5)\n",
        "        if 142>=x+w or x+w >= 142 + 371 or  100>=y+h or y + h >= 100+ 314:\n",
        "            break\n",
        "        blank[:, :]  = 255\n",
        "        count += 1\n",
        "\n",
        "        for i in range(h):\n",
        "            for j in range(w):\n",
        "                blank[y +i, x + j] = roi[i,j]\n",
        "        imgNum = count + 287\n",
        "        frame = count + 455\n",
        "        bbox = [x, y, x+w, y+h, 0, 0, imgNum, 0, 0]\n",
        "        nameFrame = f'{frame:08}'\n",
        "        cv2.imwrite(folder + nameFrame + \".jpg\", blank)\n",
        "        bboxes.append(bbox)\n",
        "    # print(x,y,x+w, y+h)\n",
        "    print(count)\n",
        "    while count <2000:\n",
        "        x = randint(x -3,x +3)\n",
        "        y = randint(y -3, y+3)\n",
        "        if x < 0 or y <0 or x + w >= width or y +h > height:\n",
        "            break\n",
        "        blank[:, :]  = 255\n",
        "        count += 1\n",
        "\n",
        "        for i in range(h):\n",
        "            for j in range(w):\n",
        "                blank[y +i, x + j] = roi[i,j]\n",
        "        imgNum = count + 287\n",
        "        frame = count + 455\n",
        "        bbox = [x, y, x+w, y+h, 0, 0, imgNum, 0, 0]\n",
        "        nameFrame = f'{frame:08}'\n",
        "        cv2.imwrite(folder + nameFrame + \".jpg\", blank)\n",
        "        bboxes.append(bbox)\n",
        "    # return bboxes\n",
        "    print(x,y,x+w, y+h)\n",
        "    print(count)\n",
        "func(bboxes)"
      ],
      "metadata": {
        "id": "fJEJCuQY_XB-",
        "colab": {
          "base_uri": "https://localhost:8080/"
        },
        "outputId": "4703237b-d25e-4462-b133-badabd44c5c3"
      },
      "execution_count": null,
      "outputs": [
        {
          "output_type": "stream",
          "name": "stdout",
          "text": [
            "126\n",
            "166\n",
            "330\n",
            "479\n",
            "658\n",
            "239 276 344 372\n",
            "2000\n"
          ]
        }
      ]
    },
    {
      "cell_type": "code",
      "source": [
        "len(bboxes)"
      ],
      "metadata": {
        "colab": {
          "base_uri": "https://localhost:8080/"
        },
        "id": "g36jjfA_4kMB",
        "outputId": "f327147f-7782-4926-8190-3d9eb9495129"
      },
      "execution_count": null,
      "outputs": [
        {
          "output_type": "execute_result",
          "data": {
            "text/plain": [
              "2287"
            ]
          },
          "metadata": {},
          "execution_count": 96
        }
      ]
    },
    {
      "cell_type": "code",
      "source": [
        "labels = np.array(bboxes)\n",
        "np.save(\"/content/drive/MyDrive/Re3-Object-Tracking/re3-pytorch/data/sample_dataset/train/labels/labels.npy\", labels)"
      ],
      "metadata": {
        "id": "e2FqIN1J5EU3"
      },
      "execution_count": null,
      "outputs": []
    },
    {
      "cell_type": "code",
      "source": [
        "folder = \"/content/drive/MyDrive/Re3-Object-Tracking/re3-pytorch/data/sample_dataset/train/images/\"\n",
        "jpg_files = [f for f in os.listdir(folder) if f.endswith(\".jpg\")]\n",
        "jpg_files.sort()\n",
        "train_labels_path = \"/content/drive/MyDrive/Re3-Object-Tracking/re3-pytorch/data/sample_dataset/train/labels/\"\n",
        "if not os.path.exists(train_labels_path):\n",
        "    os.makedirs(train_labels_path)\n",
        "with open(train_labels_path+ \"images.txt\", 'w') as file:\n",
        "    for img in jpg_files:\n",
        "        file.write(img + '\\n')"
      ],
      "metadata": {
        "id": "Olgm8tOIB4yf"
      },
      "execution_count": null,
      "outputs": []
    },
    {
      "cell_type": "code",
      "source": [
        "len(jpg_files)"
      ],
      "metadata": {
        "colab": {
          "base_uri": "https://localhost:8080/"
        },
        "id": "pqgicxjJCFL0",
        "outputId": "e57093a7-3bd0-4236-982a-2362bc49c71a"
      },
      "execution_count": null,
      "outputs": [
        {
          "output_type": "execute_result",
          "data": {
            "text/plain": [
              "2287"
            ]
          },
          "metadata": {},
          "execution_count": 101
        }
      ]
    }
  ],
  "metadata": {
    "colab": {
      "collapsed_sections": [
        "nDb8E1wHUj99",
        "HtYAFInRwCxq"
      ],
      "provenance": [],
      "include_colab_link": true
    },
    "kernelspec": {
      "display_name": "Python 3",
      "name": "python3"
    },
    "language_info": {
      "name": "python"
    }
  },
  "nbformat": 4,
  "nbformat_minor": 0
}