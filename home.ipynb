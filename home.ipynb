{
  "nbformat": 4,
  "nbformat_minor": 0,
  "metadata": {
    "colab": {
      "provenance": [],
      "authorship_tag": "ABX9TyOM8zn1f1ub/CKRAukgqGTR",
      "include_colab_link": true
    },
    "kernelspec": {
      "name": "python3",
      "display_name": "Python 3"
    },
    "language_info": {
      "name": "python"
    }
  },
  "cells": [
    {
      "cell_type": "markdown",
      "metadata": {
        "id": "view-in-github",
        "colab_type": "text"
      },
      "source": [
        "<a href=\"https://colab.research.google.com/github/haminhtien99/re3-pytorch/blob/master/home.ipynb\" target=\"_parent\"><img src=\"https://colab.research.google.com/assets/colab-badge.svg\" alt=\"Open In Colab\"/></a>"
      ]
    },
    {
      "cell_type": "code",
      "execution_count": null,
      "metadata": {
        "colab": {
          "base_uri": "https://localhost:8080/"
        },
        "id": "RRYucsTa8vcj",
        "outputId": "3b3358d9-bb6e-4041-a507-2fb697ebe8a8"
      },
      "outputs": [
        {
          "output_type": "stream",
          "name": "stdout",
          "text": [
            "Mounted at /content/drive\n"
          ]
        }
      ],
      "source": [
        "from google.colab import drive\n",
        "drive.mount('/content/drive')"
      ]
    },
    {
      "cell_type": "code",
      "source": [
        "%cd /content/drive/MyDrive/Re3-Object-Tracking/re3-pytorch\n",
        "# !git clone https://github.com/danielgordon10/re3-pytorch"
      ],
      "metadata": {
        "colab": {
          "base_uri": "https://localhost:8080/"
        },
        "id": "hC3cnQtm9Isl",
        "outputId": "01437dac-9694-4978-b6be-d7e043814614"
      },
      "execution_count": null,
      "outputs": [
        {
          "output_type": "stream",
          "name": "stdout",
          "text": [
            "/content/drive/MyDrive/Re3-Object-Tracking/re3-pytorch\n"
          ]
        }
      ]
    },
    {
      "cell_type": "markdown",
      "source": [
        "### make file npy"
      ],
      "metadata": {
        "id": "8IyyjraDUe34"
      }
    },
    {
      "cell_type": "code",
      "source": [
        "import cv2\n",
        "import numpy as np\n",
        "import glob\n",
        "import xml.etree.ElementTree as ET\n",
        "import time\n",
        "import random\n",
        "import os\n",
        "import sys\n"
      ],
      "metadata": {
        "id": "7d8iTIreDcLz"
      },
      "execution_count": null,
      "outputs": []
    },
    {
      "cell_type": "code",
      "source": [
        "from re3_utils.util import drawing\n",
        "from re3_utils.util.im_util import get_image_size\n"
      ],
      "metadata": {
        "id": "f7IXqHPFELCY"
      },
      "execution_count": null,
      "outputs": []
    },
    {
      "cell_type": "code",
      "source": [
        "import shutil"
      ],
      "metadata": {
        "id": "-_XA_109Iq2I"
      },
      "execution_count": null,
      "outputs": []
    },
    {
      "cell_type": "code",
      "source": [
        "%cd /content/drive/MyDrive/Re3-Object-Tracking/re3-pytorch/demo/data"
      ],
      "metadata": {
        "id": "UgEx3IfmI0y8"
      },
      "execution_count": null,
      "outputs": []
    },
    {
      "cell_type": "code",
      "source": [
        "folder = \"/content/drive/MyDrive/Re3-Object-Tracking/re3-pytorch/demo/data/\"\n",
        "jpg_files = [f for f in os.listdir(folder) if f.endswith(\".jpg\")]\n",
        "jpg_files.sort()\n",
        "num_train = len(jpg_files)//3 * 2\n",
        "\n",
        "img_train = jpg_files[:num_train]\n",
        "img_test = jpg_files[-num_train:]\n",
        "print(img_train)\n",
        "for file_name in img_train:\n",
        "    source_path = os.path.join(folder, file_name)\n",
        "    dest_path = os.path.join(folder, \"image\", \"train\")\n",
        "    if not os.path.exists(dest_path):\n",
        "        os.makedirs(dest_path)\n",
        "    shutil.copy(source_path, dest_path)"
      ],
      "metadata": {
        "colab": {
          "base_uri": "https://localhost:8080/"
        },
        "id": "92eVj199F-h8",
        "outputId": "5d81d029-9678-406d-c01d-cf8c7ad6ae0c"
      },
      "execution_count": null,
      "outputs": [
        {
          "output_type": "stream",
          "name": "stdout",
          "text": [
            "['00000169.jpg', '00000170.jpg', '00000171.jpg', '00000172.jpg', '00000173.jpg', '00000174.jpg', '00000175.jpg', '00000176.jpg', '00000177.jpg', '00000178.jpg', '00000179.jpg', '00000180.jpg', '00000181.jpg', '00000182.jpg', '00000183.jpg', '00000184.jpg', '00000185.jpg', '00000186.jpg', '00000187.jpg', '00000188.jpg', '00000189.jpg', '00000190.jpg', '00000191.jpg', '00000192.jpg', '00000193.jpg', '00000194.jpg', '00000195.jpg', '00000196.jpg', '00000197.jpg', '00000198.jpg', '00000199.jpg', '00000200.jpg', '00000201.jpg', '00000202.jpg', '00000203.jpg', '00000204.jpg', '00000205.jpg', '00000206.jpg', '00000207.jpg', '00000208.jpg', '00000209.jpg', '00000210.jpg', '00000211.jpg', '00000212.jpg', '00000213.jpg', '00000214.jpg', '00000215.jpg', '00000216.jpg', '00000217.jpg', '00000218.jpg', '00000219.jpg', '00000220.jpg', '00000221.jpg', '00000222.jpg', '00000223.jpg', '00000224.jpg', '00000225.jpg', '00000226.jpg', '00000227.jpg', '00000228.jpg', '00000229.jpg', '00000230.jpg', '00000231.jpg', '00000232.jpg', '00000233.jpg', '00000234.jpg', '00000235.jpg', '00000236.jpg', '00000237.jpg', '00000238.jpg', '00000239.jpg', '00000240.jpg', '00000241.jpg', '00000242.jpg', '00000243.jpg', '00000244.jpg', '00000245.jpg', '00000246.jpg', '00000247.jpg', '00000248.jpg', '00000249.jpg', '00000250.jpg', '00000251.jpg', '00000252.jpg', '00000253.jpg', '00000254.jpg', '00000255.jpg', '00000256.jpg', '00000257.jpg', '00000258.jpg', '00000259.jpg', '00000260.jpg', '00000261.jpg', '00000262.jpg', '00000263.jpg', '00000264.jpg', '00000265.jpg', '00000266.jpg', '00000267.jpg', '00000268.jpg', '00000269.jpg', '00000270.jpg', '00000271.jpg', '00000272.jpg', '00000273.jpg', '00000274.jpg', '00000275.jpg', '00000276.jpg', '00000277.jpg', '00000278.jpg', '00000279.jpg', '00000280.jpg', '00000281.jpg', '00000282.jpg', '00000283.jpg', '00000284.jpg', '00000285.jpg', '00000286.jpg', '00000287.jpg', '00000288.jpg', '00000289.jpg', '00000290.jpg', '00000291.jpg', '00000292.jpg', '00000293.jpg', '00000294.jpg', '00000295.jpg', '00000296.jpg', '00000297.jpg', '00000298.jpg', '00000299.jpg', '00000300.jpg', '00000301.jpg', '00000302.jpg', '00000303.jpg', '00000304.jpg', '00000305.jpg', '00000306.jpg', '00000307.jpg', '00000308.jpg', '00000309.jpg', '00000310.jpg', '00000311.jpg', '00000312.jpg', '00000313.jpg', '00000314.jpg', '00000315.jpg', '00000316.jpg', '00000317.jpg', '00000318.jpg', '00000319.jpg', '00000320.jpg', '00000321.jpg', '00000322.jpg', '00000323.jpg', '00000324.jpg', '00000325.jpg', '00000326.jpg', '00000327.jpg', '00000328.jpg', '00000329.jpg', '00000330.jpg', '00000331.jpg', '00000332.jpg', '00000333.jpg', '00000334.jpg', '00000335.jpg', '00000336.jpg', '00000337.jpg', '00000338.jpg', '00000339.jpg', '00000340.jpg', '00000341.jpg', '00000342.jpg', '00000343.jpg', '00000344.jpg', '00000345.jpg', '00000346.jpg', '00000347.jpg', '00000348.jpg', '00000349.jpg', '00000350.jpg', '00000351.jpg', '00000352.jpg', '00000353.jpg', '00000354.jpg', '00000355.jpg', '00000356.jpg', '00000357.jpg', '00000358.jpg', '00000359.jpg', '00000360.jpg', '00000361.jpg', '00000362.jpg', '00000363.jpg', '00000364.jpg', '00000365.jpg', '00000366.jpg', '00000367.jpg', '00000368.jpg', '00000369.jpg', '00000370.jpg', '00000371.jpg', '00000372.jpg', '00000373.jpg', '00000374.jpg', '00000375.jpg', '00000376.jpg', '00000377.jpg', '00000378.jpg', '00000379.jpg', '00000380.jpg', '00000381.jpg', '00000382.jpg', '00000383.jpg', '00000384.jpg', '00000385.jpg', '00000386.jpg', '00000387.jpg', '00000388.jpg', '00000389.jpg', '00000390.jpg', '00000391.jpg', '00000392.jpg', '00000393.jpg', '00000394.jpg', '00000395.jpg', '00000396.jpg', '00000397.jpg', '00000398.jpg', '00000399.jpg', '00000400.jpg', '00000401.jpg', '00000402.jpg', '00000403.jpg', '00000404.jpg', '00000405.jpg', '00000406.jpg', '00000407.jpg', '00000408.jpg', '00000409.jpg', '00000410.jpg', '00000411.jpg', '00000412.jpg', '00000413.jpg', '00000414.jpg', '00000415.jpg', '00000416.jpg', '00000417.jpg', '00000418.jpg', '00000419.jpg', '00000420.jpg', '00000421.jpg', '00000422.jpg', '00000423.jpg', '00000424.jpg', '00000425.jpg', '00000426.jpg', '00000427.jpg', '00000428.jpg', '00000429.jpg', '00000430.jpg', '00000431.jpg', '00000432.jpg', '00000433.jpg', '00000434.jpg', '00000435.jpg', '00000436.jpg', '00000437.jpg', '00000438.jpg', '00000439.jpg', '00000440.jpg', '00000441.jpg', '00000442.jpg', '00000443.jpg', '00000444.jpg', '00000445.jpg', '00000446.jpg', '00000447.jpg', '00000448.jpg', '00000449.jpg', '00000450.jpg', '00000451.jpg', '00000452.jpg', '00000453.jpg', '00000454.jpg']\n"
          ]
        }
      ]
    },
    {
      "cell_type": "code",
      "source": [
        "for file_name in img_test:\n",
        "    source_path = os.path.join(folder, file_name)\n",
        "    dest_path = os.path.join(folder, \"image\", \"test\")\n",
        "    if not os.path.exists(dest_path):\n",
        "        os.makedirs(dest_path)\n",
        "    shutil.copy(source_path, dest_path)"
      ],
      "metadata": {
        "id": "8TCoqrr8Iu9y"
      },
      "execution_count": null,
      "outputs": []
    },
    {
      "cell_type": "code",
      "source": [
        "labels_txt = folder +\"labels.txt\"\n",
        "with open(labels_txt, 'r') as file:\n",
        "    lines = file.read().splitlines()\n",
        "bboxes = []\n",
        "for line in lines[:num_train]:\n",
        "    # print(line)\n",
        "    line = [int(float(number)) for number in line.split()]\n",
        "    imNum =  line[0]\n",
        "    videoId = 0\n",
        "    trackId = 0\n",
        "    classId = 0\n",
        "    occl = 0\n",
        "    bbox = [line[1], line[2], line[3], line[4], videoId, trackId, imNum, classId, occl]\n",
        "    bboxes.append(bbox)\n",
        "bboxes = np.array(bboxes)\n",
        "# print(bboxes)\n",
        "dest_path = os.path.join(folder, \"labels\", \"train\")\n",
        "if not os.path.exists(dest_path):\n",
        "    os.makedirs(dest_path)\n",
        "np.save(dest_path + \"/labels.npy\", bboxes)\n"
      ],
      "metadata": {
        "id": "S34WDFB7LPMm"
      },
      "execution_count": null,
      "outputs": []
    },
    {
      "cell_type": "code",
      "source": [
        "bboxes = []\n",
        "for line in lines[-num_train:]:\n",
        "    # print(line)\n",
        "    line = [int(float(number)) for number in line.split()]\n",
        "    imNum =  line[0]\n",
        "    videoId = 0\n",
        "    trackId = 0\n",
        "    classId = 0\n",
        "    occl = 0\n",
        "    bbox = [line[1], line[2], line[3], line[4], videoId, trackId, imNum, classId, occl]\n",
        "    bboxes.append(bbox)\n",
        "bboxes = np.array(bboxes)\n",
        "dest_path = os.path.join(folder, \"labels\", \"test\")\n",
        "if not os.path.exists(dest_path):\n",
        "    os.makedirs(dest_path)\n",
        "np.save(dest_path + \"/labels.npy\", bboxes)"
      ],
      "metadata": {
        "id": "aKwvFDjdS0G6"
      },
      "execution_count": null,
      "outputs": []
    },
    {
      "cell_type": "markdown",
      "source": [
        "### af\n"
      ],
      "metadata": {
        "id": "nDb8E1wHUj99"
      }
    },
    {
      "cell_type": "code",
      "source": [
        "!python3 training/get_datasets.py"
      ],
      "metadata": {
        "colab": {
          "base_uri": "https://localhost:8080/"
        },
        "id": "M399FTVgqUyy",
        "outputId": "86912822-ee8a-478f-d862-5c63fdf5dcba"
      },
      "execution_count": null,
      "outputs": [
        {
          "output_type": "stream",
          "name": "stdout",
          "text": [
            "/content/drive/MyDrive/Re3-Object-Tracking/re3-pytorch/../../../../Datasets/Imagenet_Video/provided_small\n",
            "/content/drive/MyDrive/Re3-Object-Tracking/re3-pytorch/training/datasets/imagenet_video\n"
          ]
        }
      ]
    },
    {
      "cell_type": "code",
      "source": [
        "%cd /content/drive/MyDrive/Re3-Object-Tracking/re3-pytorch/training\n",
        "!python unrolled_solver.py -rtc -n 2 -b 64"
      ],
      "metadata": {
        "colab": {
          "base_uri": "https://localhost:8080/"
        },
        "id": "VBjg9jtHFiPd",
        "outputId": "12516914-ad1d-4273-8ef2-00b6510f540f"
      },
      "execution_count": null,
      "outputs": [
        {
          "output_type": "stream",
          "name": "stdout",
          "text": [
            "/content/drive/MyDrive/Re3-Object-Tracking/re3-pytorch/training\n",
            "2023-10-04 09:12:23.452197: I tensorflow/core/platform/cpu_feature_guard.cc:182] This TensorFlow binary is optimized to use available CPU instructions in performance-critical operations.\n",
            "To enable the following instructions: AVX2 FMA, in other operations, rebuild TensorFlow with the appropriate compiler flags.\n",
            "2023-10-04 09:12:24.606181: W tensorflow/compiler/tf2tensorrt/utils/py_utils.cc:38] TF-TRT Warning: Could not find TensorRT\n",
            "WARNING:tensorflow:From /usr/local/lib/python3.10/dist-packages/tensorflow/python/compat/v2_compat.py:107: disable_resource_variables (from tensorflow.python.ops.variable_scope) is deprecated and will be removed in a future version.\n",
            "Instructions for updating:\n",
            "non-resource variables are not supported in the long term\n",
            "Traceback (most recent call last):\n",
            "  File \"/content/drive/MyDrive/Re3-Object-Tracking/re3-pytorch/training/unrolled_solver.py\", line 295, in <module>\n",
            "    main(args)\n",
            "  File \"/content/drive/MyDrive/Re3-Object-Tracking/re3-pytorch/training/unrolled_solver.py\", line 63, in main\n",
            "    data_loader = pt_dataset.get_data_loader(num_unrolls, batch_size, args.num_threads)\n",
            "  File \"/content/drive/MyDrive/Re3-Object-Tracking/re3-pytorch/training/pt_dataset.py\", line 117, in get_data_loader\n",
            "    dataset = VideoDataset(num_unrolls)\n",
            "  File \"/content/drive/MyDrive/Re3-Object-Tracking/re3-pytorch/training/pt_dataset.py\", line 36, in __init__\n",
            "    self.create_keys()\n",
            "  File \"/content/drive/MyDrive/Re3-Object-Tracking/re3-pytorch/training/pt_dataset.py\", line 70, in create_keys\n",
            "    self.add_dataset(\"imagenet_video\")\n",
            "  File \"/content/drive/MyDrive/Re3-Object-Tracking/re3-pytorch/training/pt_dataset.py\", line 40, in add_dataset\n",
            "    data = get_datasets.get_data_for_dataset(dataset_name, \"train\")\n",
            "  File \"/content/drive/MyDrive/Re3-Object-Tracking/re3-pytorch/training/get_datasets.py\", line 17, in get_data_for_dataset\n",
            "    gt = np.load(datadir + \"/labels/\" + mode + \"/labels_small_boxes.npy\")\n",
            "  File \"/usr/local/lib/python3.10/dist-packages/numpy/lib/npyio.py\", line 405, in load\n",
            "    fid = stack.enter_context(open(os_fspath(file), \"rb\"))\n",
            "FileNotFoundError: [Errno 2] No such file or directory: '/content/drive/MyDrive/Re3-Object-Tracking/re3-pytorch/training/datasets/imagenet_video/labels/train/labels_small_boxes.npy'\n"
          ]
        }
      ]
    },
    {
      "cell_type": "code",
      "source": [
        "import glob\n",
        "import os.path\n",
        "import sys\n",
        "\n",
        "import cv2\n",
        "\n",
        "basedir = \"/content/drive/MyDrive/Re3-Object-Tracking/re3-pytorch/demo\"\n",
        "sys.path.append(os.path.abspath(os.path.join(basedir, os.path.pardir)))\n",
        "from tracker import re3_tracker\n",
        "\n",
        "if not os.path.exists(os.path.join(basedir, \"data\")):\n",
        "    import tarfile\n",
        "\n",
        "    tar = tarfile.open(os.path.join(basedir, \"data.tar.gz\"))\n",
        "    tar.extractall(path=basedir)\n",
        "\n",
        "# cv2.namedWindow(\"Image\", cv2.WINDOW_NORMAL)\n",
        "# cv2.resizeWindow(\"Image\", 640, 480)\n",
        "tracker = re3_tracker.Re3Tracker()\n",
        "image_paths = sorted(glob.glob(os.path.join(basedir, \"data\", \"*.jpg\")))\n",
        "initial_bbox = [175, 154, 251, 229]\n",
        "\n",
        "#initial_bbox = [0, 0, 227, 227]\n",
        "tracker.track(\"ball\", image_paths[0], initial_bbox)\n",
        "for image_path in image_paths:\n",
        "    image = cv2.imread(image_path)\n",
        "    # Tracker expects RGB, but opencv loads BGR.\n",
        "    imageRGB = image[:, :, ::-1]\n",
        "    bbox = tracker.track(\"ball\", imageRGB)\n",
        "    print(bbox)\n",
        "    # cv2.rectangle(image, (int(bbox[0]), int(bbox[1])), (int(bbox[2]), int(bbox[3])), [0, 0, 255], 2)\n",
        "    # cv2.imshow(\"Image\", image)\n",
        "    # cv2.waitKey(1)"
      ],
      "metadata": {
        "colab": {
          "base_uri": "https://localhost:8080/",
          "height": 1000
        },
        "id": "Y8iO19cBDxqE",
        "outputId": "73185893-942f-4198-ee97-66ccd207f713"
      },
      "execution_count": null,
      "outputs": [
        {
          "output_type": "stream",
          "name": "stdout",
          "text": [
            "restoring from /content/drive/MyDrive/Re3-Object-Tracking/re3-pytorch/logs/checkpoints\n",
            "No checkpoints found\n"
          ]
        },
        {
          "output_type": "error",
          "ename": "RuntimeError",
          "evalue": "ignored",
          "traceback": [
            "\u001b[0;31m---------------------------------------------------------------------------\u001b[0m",
            "\u001b[0;31mRuntimeError\u001b[0m                              Traceback (most recent call last)",
            "\u001b[0;32m<ipython-input-4-270ab49092dc>\u001b[0m in \u001b[0;36m<cell line: 24>\u001b[0;34m()\u001b[0m\n\u001b[1;32m     22\u001b[0m \u001b[0;34m\u001b[0m\u001b[0m\n\u001b[1;32m     23\u001b[0m \u001b[0;31m#initial_bbox = [0, 0, 227, 227]\u001b[0m\u001b[0;34m\u001b[0m\u001b[0;34m\u001b[0m\u001b[0m\n\u001b[0;32m---> 24\u001b[0;31m \u001b[0mtracker\u001b[0m\u001b[0;34m.\u001b[0m\u001b[0mtrack\u001b[0m\u001b[0;34m(\u001b[0m\u001b[0;34m\"ball\"\u001b[0m\u001b[0;34m,\u001b[0m \u001b[0mimage_paths\u001b[0m\u001b[0;34m[\u001b[0m\u001b[0;36m0\u001b[0m\u001b[0;34m]\u001b[0m\u001b[0;34m,\u001b[0m \u001b[0minitial_bbox\u001b[0m\u001b[0;34m)\u001b[0m\u001b[0;34m\u001b[0m\u001b[0;34m\u001b[0m\u001b[0m\n\u001b[0m\u001b[1;32m     25\u001b[0m \u001b[0;32mfor\u001b[0m \u001b[0mimage_path\u001b[0m \u001b[0;32min\u001b[0m \u001b[0mimage_paths\u001b[0m\u001b[0;34m:\u001b[0m\u001b[0;34m\u001b[0m\u001b[0;34m\u001b[0m\u001b[0m\n\u001b[1;32m     26\u001b[0m     \u001b[0mimage\u001b[0m \u001b[0;34m=\u001b[0m \u001b[0mcv2\u001b[0m\u001b[0;34m.\u001b[0m\u001b[0mimread\u001b[0m\u001b[0;34m(\u001b[0m\u001b[0mimage_path\u001b[0m\u001b[0;34m)\u001b[0m\u001b[0;34m\u001b[0m\u001b[0;34m\u001b[0m\u001b[0m\n",
            "\u001b[0;32m/content/drive/MyDrive/Re3-Object-Tracking/re3-pytorch/tracker/re3_tracker.py\u001b[0m in \u001b[0;36mtrack\u001b[0;34m(self, unique_id, image, starting_box)\u001b[0m\n\u001b[1;32m     73\u001b[0m \u001b[0;34m\u001b[0m\u001b[0m\n\u001b[1;32m     74\u001b[0m         \u001b[0mimage_input\u001b[0m \u001b[0;34m=\u001b[0m \u001b[0mpt_util\u001b[0m\u001b[0;34m.\u001b[0m\u001b[0mfrom_numpy\u001b[0m\u001b[0;34m(\u001b[0m\u001b[0;34m(\u001b[0m\u001b[0mnp\u001b[0m\u001b[0;34m.\u001b[0m\u001b[0mstack\u001b[0m\u001b[0;34m(\u001b[0m\u001b[0;34m[\u001b[0m\u001b[0mcropped_input0\u001b[0m\u001b[0;34m,\u001b[0m \u001b[0mcropped_input1\u001b[0m\u001b[0;34m]\u001b[0m\u001b[0;34m)\u001b[0m\u001b[0;34m)\u001b[0m\u001b[0;34m)\u001b[0m\u001b[0;34m\u001b[0m\u001b[0;34m\u001b[0m\u001b[0m\n\u001b[0;32m---> 75\u001b[0;31m         \u001b[0mraw_output\u001b[0m \u001b[0;34m=\u001b[0m \u001b[0mself\u001b[0m\u001b[0;34m.\u001b[0m\u001b[0mnetwork\u001b[0m\u001b[0;34m(\u001b[0m\u001b[0mimage_input\u001b[0m\u001b[0;34m,\u001b[0m \u001b[0mlstm_state\u001b[0m\u001b[0;34m)\u001b[0m\u001b[0;34m\u001b[0m\u001b[0;34m\u001b[0m\u001b[0m\n\u001b[0m\u001b[1;32m     76\u001b[0m         \u001b[0mraw_output\u001b[0m \u001b[0;34m=\u001b[0m \u001b[0mpt_util\u001b[0m\u001b[0;34m.\u001b[0m\u001b[0mto_numpy_array\u001b[0m\u001b[0;34m(\u001b[0m\u001b[0mraw_output\u001b[0m\u001b[0;34m)\u001b[0m\u001b[0;34m\u001b[0m\u001b[0;34m\u001b[0m\u001b[0m\n\u001b[1;32m     77\u001b[0m         \u001b[0mlstm_state\u001b[0m \u001b[0;34m=\u001b[0m \u001b[0mself\u001b[0m\u001b[0;34m.\u001b[0m\u001b[0mnetwork\u001b[0m\u001b[0;34m.\u001b[0m\u001b[0mlstm_state\u001b[0m\u001b[0;34m\u001b[0m\u001b[0;34m\u001b[0m\u001b[0m\n",
            "\u001b[0;32m/usr/local/lib/python3.10/dist-packages/torch/nn/modules/module.py\u001b[0m in \u001b[0;36m_call_impl\u001b[0;34m(self, *args, **kwargs)\u001b[0m\n\u001b[1;32m   1499\u001b[0m                 \u001b[0;32mor\u001b[0m \u001b[0m_global_backward_pre_hooks\u001b[0m \u001b[0;32mor\u001b[0m \u001b[0m_global_backward_hooks\u001b[0m\u001b[0;34m\u001b[0m\u001b[0;34m\u001b[0m\u001b[0m\n\u001b[1;32m   1500\u001b[0m                 or _global_forward_hooks or _global_forward_pre_hooks):\n\u001b[0;32m-> 1501\u001b[0;31m             \u001b[0;32mreturn\u001b[0m \u001b[0mforward_call\u001b[0m\u001b[0;34m(\u001b[0m\u001b[0;34m*\u001b[0m\u001b[0margs\u001b[0m\u001b[0;34m,\u001b[0m \u001b[0;34m**\u001b[0m\u001b[0mkwargs\u001b[0m\u001b[0;34m)\u001b[0m\u001b[0;34m\u001b[0m\u001b[0;34m\u001b[0m\u001b[0m\n\u001b[0m\u001b[1;32m   1502\u001b[0m         \u001b[0;31m# Do not call functions when jit is used\u001b[0m\u001b[0;34m\u001b[0m\u001b[0;34m\u001b[0m\u001b[0m\n\u001b[1;32m   1503\u001b[0m         \u001b[0mfull_backward_hooks\u001b[0m\u001b[0;34m,\u001b[0m \u001b[0mnon_full_backward_hooks\u001b[0m \u001b[0;34m=\u001b[0m \u001b[0;34m[\u001b[0m\u001b[0;34m]\u001b[0m\u001b[0;34m,\u001b[0m \u001b[0;34m[\u001b[0m\u001b[0;34m]\u001b[0m\u001b[0;34m\u001b[0m\u001b[0;34m\u001b[0m\u001b[0m\n",
            "\u001b[0;32m/content/drive/MyDrive/Re3-Object-Tracking/re3-pytorch/tracker/network.py\u001b[0m in \u001b[0;36mforward\u001b[0;34m(self, input, lstm_state)\u001b[0m\n\u001b[1;32m    124\u001b[0m \u001b[0;34m\u001b[0m\u001b[0m\n\u001b[1;32m    125\u001b[0m         \u001b[0mconv1_skip\u001b[0m \u001b[0;34m=\u001b[0m \u001b[0mself\u001b[0m\u001b[0;34m.\u001b[0m\u001b[0mprelu_skip\u001b[0m\u001b[0;34m[\u001b[0m\u001b[0;36m0\u001b[0m\u001b[0;34m]\u001b[0m\u001b[0;34m(\u001b[0m\u001b[0mself\u001b[0m\u001b[0;34m.\u001b[0m\u001b[0mconv_skip\u001b[0m\u001b[0;34m[\u001b[0m\u001b[0;36m0\u001b[0m\u001b[0;34m]\u001b[0m\u001b[0;34m(\u001b[0m\u001b[0mlrn1\u001b[0m\u001b[0;34m)\u001b[0m\u001b[0;34m)\u001b[0m\u001b[0;34m\u001b[0m\u001b[0;34m\u001b[0m\u001b[0m\n\u001b[0;32m--> 126\u001b[0;31m         \u001b[0mconv1_skip_flat\u001b[0m \u001b[0;34m=\u001b[0m \u001b[0mpt_util\u001b[0m\u001b[0;34m.\u001b[0m\u001b[0mremove_dim\u001b[0m\u001b[0;34m(\u001b[0m\u001b[0mconv1_skip\u001b[0m\u001b[0;34m,\u001b[0m \u001b[0;34m[\u001b[0m\u001b[0;36m2\u001b[0m\u001b[0;34m,\u001b[0m \u001b[0;36m3\u001b[0m\u001b[0;34m]\u001b[0m\u001b[0;34m)\u001b[0m\u001b[0;34m\u001b[0m\u001b[0;34m\u001b[0m\u001b[0m\n\u001b[0m\u001b[1;32m    127\u001b[0m \u001b[0;34m\u001b[0m\u001b[0m\n\u001b[1;32m    128\u001b[0m         \u001b[0mconv2\u001b[0m \u001b[0;34m=\u001b[0m \u001b[0mself\u001b[0m\u001b[0;34m.\u001b[0m\u001b[0mconv\u001b[0m\u001b[0;34m[\u001b[0m\u001b[0;36m1\u001b[0m\u001b[0;34m]\u001b[0m\u001b[0;34m(\u001b[0m\u001b[0mlrn1\u001b[0m\u001b[0;34m)\u001b[0m\u001b[0;34m\u001b[0m\u001b[0;34m\u001b[0m\u001b[0m\n",
            "\u001b[0;32m/content/drive/MyDrive/Re3-Object-Tracking/re3-pytorch/re3_utils/pytorch_util/pytorch_util_functions.py\u001b[0m in \u001b[0;36mremove_dim\u001b[0;34m(input_tensor, dim)\u001b[0m\n\u001b[1;32m    169\u001b[0m             \u001b[0mcurr_shape\u001b[0m \u001b[0;34m=\u001b[0m \u001b[0mremove_dim_get_shape\u001b[0m\u001b[0;34m(\u001b[0m\u001b[0mcurr_shape\u001b[0m\u001b[0;34m,\u001b[0m \u001b[0max\u001b[0m\u001b[0;34m)\u001b[0m\u001b[0;34m\u001b[0m\u001b[0;34m\u001b[0m\u001b[0m\n\u001b[1;32m    170\u001b[0m         \u001b[0mnew_shape\u001b[0m \u001b[0;34m=\u001b[0m \u001b[0mcurr_shape\u001b[0m\u001b[0;34m\u001b[0m\u001b[0;34m\u001b[0m\u001b[0m\n\u001b[0;32m--> 171\u001b[0;31m     \u001b[0;32mreturn\u001b[0m \u001b[0minput_tensor\u001b[0m\u001b[0;34m.\u001b[0m\u001b[0mview\u001b[0m\u001b[0;34m(\u001b[0m\u001b[0mnew_shape\u001b[0m\u001b[0;34m)\u001b[0m\u001b[0;34m\u001b[0m\u001b[0;34m\u001b[0m\u001b[0m\n\u001b[0m\u001b[1;32m    172\u001b[0m \u001b[0;34m\u001b[0m\u001b[0m\n\u001b[1;32m    173\u001b[0m \u001b[0;34m\u001b[0m\u001b[0m\n",
            "\u001b[0;31mRuntimeError\u001b[0m: view size is not compatible with input tensor's size and stride (at least one dimension spans across two contiguous subspaces). Use .reshape(...) instead."
          ]
        }
      ]
    }
  ]
}