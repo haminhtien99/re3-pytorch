{
  "nbformat": 4,
  "nbformat_minor": 0,
  "metadata": {
    "colab": {
      "provenance": [],
      "gpuType": "T4",
      "collapsed_sections": [
        "8IyyjraDUe34",
        "nDb8E1wHUj99"
      ],
      "include_colab_link": true
    },
    "kernelspec": {
      "name": "python3",
      "display_name": "Python 3"
    },
    "language_info": {
      "name": "python"
    },
    "accelerator": "GPU"
  },
  "cells": [
    {
      "cell_type": "markdown",
      "metadata": {
        "id": "view-in-github",
        "colab_type": "text"
      },
      "source": [
        "<a href=\"https://colab.research.google.com/github/haminhtien99/re3-pytorch/blob/master/test.ipynb\" target=\"_parent\"><img src=\"https://colab.research.google.com/assets/colab-badge.svg\" alt=\"Open In Colab\"/></a>"
      ]
    },
    {
      "cell_type": "code",
      "execution_count": null,
      "metadata": {
        "colab": {
          "base_uri": "https://localhost:8080/"
        },
        "id": "RRYucsTa8vcj",
        "outputId": "b6ee5a08-be54-4b5a-fa8d-8fe5468c2d03"
      },
      "outputs": [
        {
          "output_type": "stream",
          "name": "stdout",
          "text": [
            "Mounted at /content/drive\n"
          ]
        }
      ],
      "source": [
        "from google.colab import drive\n",
        "drive.mount('/content/drive')"
      ]
    },
    {
      "cell_type": "code",
      "source": [
        "%cd /content/drive/MyDrive/Re3-Object-Tracking/re3-pytorch\n",
        "# !git clone https://github.com/danielgordon10/re3-pytorch"
      ],
      "metadata": {
        "colab": {
          "base_uri": "https://localhost:8080/"
        },
        "id": "hC3cnQtm9Isl",
        "outputId": "7e28f7e8-fbce-4da8-c18d-e351e92d6df4"
      },
      "execution_count": null,
      "outputs": [
        {
          "output_type": "stream",
          "name": "stdout",
          "text": [
            "/content/drive/MyDrive/Re3-Object-Tracking/re3-pytorch\n"
          ]
        }
      ]
    },
    {
      "cell_type": "markdown",
      "source": [
        "### Tracking\n"
      ],
      "metadata": {
        "id": "HtYAFInRwCxq"
      }
    },
    {
      "cell_type": "code",
      "source": [
        "%cd /content/drive/MyDrive/Re3-Object-Tracking/re3-pytorch\n",
        "import os.path\n",
        "import sys\n",
        "import time\n",
        "\n",
        "import cv2\n",
        "import numpy as np\n",
        "\n",
        "\n",
        "from re3_utils.util import bb_util\n",
        "from re3_utils.util import im_util\n",
        "from re3_utils.pytorch_util import pytorch_util_functions as pt_util\n",
        "\n",
        "from tracker.network import Re3Net, Re3SmallNet\n",
        "\n",
        "# Network Constants\n",
        "from constants import CROP_SIZE\n",
        "from constants import CROP_PAD\n",
        "from constants import LOG_DIR\n",
        "from constants import MAX_TRACK_LENGTH\n",
        "from constants import USE_SMALL_NET\n",
        "\n",
        "SPEED_OUTPUT = True\n",
        "\n",
        "\n",
        "class Re3Tracker(object):\n",
        "    def __init__(self, gpu_id=0):\n",
        "        gpu_id = pt_util.setup_devices(gpu_id)[0]\n",
        "        self.network = Re3SmallNet(gpu_id)\n",
        "        pt_util.restore_from_folder(self.network, os.path.join(LOG_DIR, \"checkpoints\"))\n",
        "        # if USE_SMALL_NET:\n",
        "        #     self.network = Re3SmallNet(gpu_id)\n",
        "        #     pt_util.restore_from_folder(self.network, os.path.join(LOG_DIR, \"checkpoints_small\"))\n",
        "        # else:\n",
        "        #     self.network = Re3Net(gpu_id)\n",
        "        #     pt_util.restore_from_folder(self.network, os.path.join(LOG_DIR, \"checkpoints\"))\n",
        "        self.network.to(gpu_id)\n",
        "        self.network.eval()\n",
        "\n",
        "\n",
        "        self.tracked_data = {}\n",
        "\n",
        "        self.t_time = 0\n",
        "        self.total_forward_count = -1\n",
        "\n",
        "    # unique_id{str}: A unique id for the object being tracked.\n",
        "    # image{str or numpy array}: The current image or the path to the current image.\n",
        "    # starting_box{None or 4x1 numpy array or list}: 4x1 bounding box in X1, Y1, X2, Y2 format.\n",
        "    def track(self, unique_id, image, starting_box=None):\n",
        "        start_time = time.time()\n",
        "\n",
        "        if type(image) == str:\n",
        "            image = cv2.imread(image)[:, :, ::-1]\n",
        "        else:\n",
        "            image = image.copy()\n",
        "\n",
        "        image_read_time = time.time() - start_time\n",
        "\n",
        "        if starting_box is not None:\n",
        "            lstm_state = None\n",
        "            past_bbox = np.array(starting_box)  # turns list into numpy array if not and copies for safety.\n",
        "            prev_image = image\n",
        "            original_features = None\n",
        "            forward_count = 0\n",
        "        elif unique_id in self.tracked_data:\n",
        "            lstm_state, past_bbox, prev_image, original_features, forward_count = self.tracked_data[unique_id]\n",
        "        else:\n",
        "            raise Exception(\"Unique_id %s with no initial bounding box\" % unique_id)\n",
        "\n",
        "        cropped_input0, past_b_box_padded = im_util.get_cropped_input(prev_image, past_bbox, CROP_PAD, CROP_SIZE)\n",
        "        cropped_input1, _ = im_util.get_cropped_input(image, past_bbox, CROP_PAD, CROP_SIZE)\n",
        "        # import pdb\n",
        "        # pdb.set_trace()\n",
        "\n",
        "        image_input = pt_util.from_numpy((np.stack([cropped_input0, cropped_input1])))\n",
        "        raw_output = self.network(image_input, lstm_state)\n",
        "        raw_output = pt_util.to_numpy_array(raw_output)\n",
        "        lstm_state = self.network.lstm_state\n",
        "        if forward_count == 0:\n",
        "            original_features = [var.clone().detach() for var in self.network.lstm_state]\n",
        "\n",
        "        prev_image = image\n",
        "\n",
        "        # Shift output box to full image coordinate system.\n",
        "        output_box = bb_util.from_crop_coordinate_system(raw_output.squeeze() / 10.0, past_b_box_padded, 1, 1)\n",
        "        # import pdb\n",
        "        # pdb.set_trace()\n",
        "        if forward_count > 0 and forward_count % MAX_TRACK_LENGTH == 0:\n",
        "            cropped_input, _ = im_util.get_cropped_input(image, output_box, CROP_PAD, CROP_SIZE)\n",
        "            image_input = pt_util.from_numpy(np.tile(cropped_input[np.newaxis, ...], (2, 1, 1, 1)))\n",
        "            self.network(image_input, original_features)\n",
        "            lstm_state = self.network.lstm_state\n",
        "\n",
        "        forward_count += 1\n",
        "        self.total_forward_count += 1\n",
        "\n",
        "        if starting_box is not None:\n",
        "            # Use label if it's given\n",
        "            output_box = np.array(starting_box)\n",
        "\n",
        "        self.tracked_data[unique_id] = (lstm_state, output_box, image, original_features, forward_count)\n",
        "        end_time = time.time()\n",
        "        if self.total_forward_count > 0:\n",
        "            self.t_time += end_time - start_time - image_read_time\n",
        "        if SPEED_OUTPUT and self.total_forward_count % 100 == 0:\n",
        "            print(\"Current tracking speed:   %.3f FPS\" % (1 / (end_time - start_time - image_read_time)))\n",
        "            print(\"Current image read speed: %.3f FPS\" % (1 / (image_read_time)))\n",
        "            print(\"Mean tracking speed:      %.3f FPS\\n\" % (self.total_forward_count / max(0.00001, self.t_time)))\n",
        "        return output_box\n"
      ],
      "metadata": {
        "colab": {
          "base_uri": "https://localhost:8080/"
        },
        "id": "F_w5aFQR8_eS",
        "outputId": "1f35c05a-3df0-46ce-a63e-be5edcd14afc"
      },
      "execution_count": null,
      "outputs": [
        {
          "output_type": "stream",
          "name": "stdout",
          "text": [
            "/content/drive/MyDrive/Re3-Object-Tracking/re3-pytorch\n"
          ]
        }
      ]
    },
    {
      "cell_type": "code",
      "source": [
        "%cd /content/drive/MyDrive/Re3-Object-Tracking/re3-pytorch\n",
        "import glob\n",
        "import os.path\n",
        "import sys\n",
        "\n",
        "import cv2\n",
        "\n",
        "# basedir = os.path.dirname(__file__)\n",
        "# sys.path.append(os.path.abspath(os.path.join(basedir, os.path.pardir)))\n",
        "from tracker import re3_tracker\n",
        "tracker = Re3Tracker()\n",
        "\n"
      ],
      "metadata": {
        "id": "LZQt5KSqbHym"
      },
      "execution_count": null,
      "outputs": []
    },
    {
      "cell_type": "code",
      "source": [
        "from IPython.display import Image, display"
      ],
      "metadata": {
        "id": "9lnmnvOxxriO"
      },
      "execution_count": null,
      "outputs": []
    },
    {
      "cell_type": "code",
      "source": [
        "test_folder = \"/content/drive/MyDrive/Re3-Object-Tracking/re3-pytorch/data/images/test\"\n",
        "track_folder = \"/content/drive/MyDrive/Re3-Object-Tracking/re3-pytorch/logs/tracked\"\n",
        "test_files = [f for f in os.listdir(test_folder) if f.endswith(\".jpg\")]\n",
        "test_files.sort()\n",
        "initial_bbox = [154, 112, 254, 238]\n",
        "image = cv2.imread( test_folder + \"/\"+ test_files[0])\n",
        "\n",
        "tracker.track(\"ball\", test_folder + \"/\"+ test_files[0], initial_bbox)\n",
        "for file in test_files:\n",
        "    image_path = test_folder + \"/\"+ file\n",
        "    # print(image_path)\n",
        "    image = cv2.imread(image_path)\n",
        "    # Tracker expects RGB, but opencv loads BGR.\n",
        "    imageRGB = image[:, :, ::-1]\n",
        "    bbox = tracker.track(\"ball\", imageRGB)\n",
        "    # print(bbox)\n",
        "    img_copy = image.copy()\n",
        "    cv2.rectangle(img_copy, (int(bbox[0]), int(bbox[1])), (int(bbox[2]), int(bbox[3])), [0, 0, 255], 2)\n",
        "    # display(Image(data=img_copy))\n",
        "    track_path = track_folder + \"/\"+ file\n",
        "    cv2.imwrite(track_path,img_copy)\n",
        "    # cv2.waitKey(1)"
      ],
      "metadata": {
        "id": "Xing24cNAHS-"
      },
      "execution_count": null,
      "outputs": []
    }
  ]
}