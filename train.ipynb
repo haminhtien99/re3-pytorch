{
  "nbformat": 4,
  "nbformat_minor": 0,
  "metadata": {
    "colab": {
      "provenance": [],
      "gpuType": "T4",
      "collapsed_sections": [
        "8IyyjraDUe34",
        "nDb8E1wHUj99"
      ],
      "include_colab_link": true
    },
    "kernelspec": {
      "name": "python3",
      "display_name": "Python 3"
    },
    "language_info": {
      "name": "python"
    },
    "accelerator": "GPU"
  },
  "cells": [
    {
      "cell_type": "markdown",
      "metadata": {
        "id": "view-in-github",
        "colab_type": "text"
      },
      "source": [
        "<a href=\"https://colab.research.google.com/github/haminhtien99/re3-pytorch/blob/master/train.ipynb\" target=\"_parent\"><img src=\"https://colab.research.google.com/assets/colab-badge.svg\" alt=\"Open In Colab\"/></a>"
      ]
    },
    {
      "cell_type": "code",
      "execution_count": null,
      "metadata": {
        "colab": {
          "base_uri": "https://localhost:8080/"
        },
        "id": "RRYucsTa8vcj",
        "outputId": "b6ee5a08-be54-4b5a-fa8d-8fe5468c2d03"
      },
      "outputs": [
        {
          "output_type": "stream",
          "name": "stdout",
          "text": [
            "Mounted at /content/drive\n"
          ]
        }
      ],
      "source": [
        "from google.colab import drive\n",
        "drive.mount('/content/drive')"
      ]
    },
    {
      "cell_type": "code",
      "source": [
        "%cd /content/drive/MyDrive/Re3-Object-Tracking/re3-pytorch\n",
        "# !git clone https://github.com/danielgordon10/re3-pytorch"
      ],
      "metadata": {
        "colab": {
          "base_uri": "https://localhost:8080/"
        },
        "id": "hC3cnQtm9Isl",
        "outputId": "7e28f7e8-fbce-4da8-c18d-e351e92d6df4"
      },
      "execution_count": null,
      "outputs": [
        {
          "output_type": "stream",
          "name": "stdout",
          "text": [
            "/content/drive/MyDrive/Re3-Object-Tracking/re3-pytorch\n"
          ]
        }
      ]
    },
    {
      "cell_type": "markdown",
      "source": [
        "### Training\n"
      ],
      "metadata": {
        "id": "nDb8E1wHUj99"
      }
    },
    {
      "cell_type": "code",
      "source": [
        "%cd /content/drive/MyDrive/Re3-Object-Tracking/re3-pytorch/training\n",
        "!python unrolled_solver.py -rtc -n 2 -b 64"
      ],
      "metadata": {
        "id": "VBjg9jtHFiPd"
      },
      "execution_count": null,
      "outputs": []
    },
    {
      "cell_type": "markdown",
      "source": [
        "Hiện có lỗi phần tensorboard_logger.py. Tạm thời không sử dụng hàm image_summary của Class Logger()"
      ],
      "metadata": {
        "id": "uxziwtDiEd4f"
      }
    },
    {
      "cell_type": "markdown",
      "source": [
        "### Tensorboard"
      ],
      "metadata": {
        "id": "NeV6eUmb2Iyl"
      }
    },
    {
      "cell_type": "code",
      "source": [
        "%load_ext tensorboard"
      ],
      "metadata": {
        "id": "nBhDAuSFmrgQ",
        "colab": {
          "base_uri": "https://localhost:8080/"
        },
        "outputId": "13073d14-3826-471f-dab0-4e021c4596e5"
      },
      "execution_count": null,
      "outputs": [
        {
          "output_type": "stream",
          "name": "stdout",
          "text": [
            "The tensorboard extension is already loaded. To reload it, use:\n",
            "  %reload_ext tensorboard\n"
          ]
        }
      ]
    },
    {
      "cell_type": "code",
      "source": [
        "%tensorboard --logdir /content/drive/MyDrive/Re3-Object-Tracking/re3-pytorch/logs"
      ],
      "metadata": {
        "colab": {
          "base_uri": "https://localhost:8080/",
          "height": 839
        },
        "id": "vbGDgdfVuhGW",
        "outputId": "cb28216a-4b9e-4465-b5e3-e839252d54c0"
      },
      "execution_count": null,
      "outputs": [
        {
          "output_type": "display_data",
          "data": {
            "text/plain": [
              "Reusing TensorBoard on port 6006 (pid 22368), started 0:16:01 ago. (Use '!kill 22368' to kill it.)"
            ]
          },
          "metadata": {}
        },
        {
          "output_type": "display_data",
          "data": {
            "text/plain": [
              "<IPython.core.display.Javascript object>"
            ],
            "application/javascript": [
              "\n",
              "        (async () => {\n",
              "            const url = new URL(await google.colab.kernel.proxyPort(6006, {'cache': true}));\n",
              "            url.searchParams.set('tensorboardColab', 'true');\n",
              "            const iframe = document.createElement('iframe');\n",
              "            iframe.src = url;\n",
              "            iframe.setAttribute('width', '100%');\n",
              "            iframe.setAttribute('height', '800');\n",
              "            iframe.setAttribute('frameborder', 0);\n",
              "            document.body.appendChild(iframe);\n",
              "        })();\n",
              "    "
            ]
          },
          "metadata": {}
        }
      ]
    },
    {
      "cell_type": "code",
      "source": [
        "!ps -ef|grep tensorboard"
      ],
      "metadata": {
        "colab": {
          "base_uri": "https://localhost:8080/"
        },
        "id": "-JHPBr-dnSLz",
        "outputId": "d556b1f1-797b-4425-e3a3-46a035e02368"
      },
      "execution_count": null,
      "outputs": [
        {
          "output_type": "stream",
          "name": "stdout",
          "text": [
            "root       12308     185  0 16:35 ?        00:00:04 /usr/bin/python3 /usr/local/bin/tensorboard --logdir /content/drive/MyDrive/Re3-Object-Tracking/re3-pytorch/logs\n",
            "root       12333   12308  0 16:35 ?        00:00:00 /usr/local/lib/python3.10/dist-packages/tensorboard_data_server/bin/server --logdir=/content/drive/MyDrive/Re3-Object-Tracking/re3-pytorch/logs --reload=5 --samples-per-plugin= --port=0 --port-file=/tmp/tensorboard_data_server_d0ey7q3c/port --die-after-stdin --error-file=/tmp/tensorboard_data_server_d0ey7q3c/startup_error\n",
            "root       22299     185  0 17:14 ?        00:00:00 /bin/bash -c ps -ef|grep tensorboard\n",
            "root       22301   22299  0 17:14 ?        00:00:00 grep tensorboard\n"
          ]
        }
      ]
    },
    {
      "cell_type": "code",
      "source": [
        "!kill 12308"
      ],
      "metadata": {
        "id": "rj616_hxrmBP"
      },
      "execution_count": null,
      "outputs": []
    }
  ]
}